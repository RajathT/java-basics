{
 "cells": [
  {
   "cell_type": "markdown",
   "metadata": {},
   "source": [
    "# Arrays\n",
    "1. Introduction\n",
    "2. Array Declaration, Creation and Initialization\n",
    "3. length vs length()\n",
    "4. Anonymous arrays\n",
    "5. Array element assignments\n",
    "6. Array variable assignments"
   ]
  },
  {
   "cell_type": "markdown",
   "metadata": {},
   "source": [
    "## Introduction"
   ]
  },
  {
   "cell_type": "markdown",
   "metadata": {},
   "source": [
    "An array is an indexed collection of fixed number of homogenous data elements, the main advatage of arrays is we can represent huge number of values by using single variables so that readabilty of code will be improved, but the main disadvantage of arrays is fixed in size i.e, once we create an array there is no chance of increasing the size of array based on our requirements. Hence to use Arrays, we need to know the size always, which may not be always possible."
   ]
  },
  {
   "cell_type": "markdown",
   "metadata": {},
   "source": [
    "## Array declaration"
   ]
  },
  {
   "cell_type": "markdown",
   "metadata": {},
   "source": [
    "### One Dimensional Array declaration"
   ]
  },
  {
   "cell_type": "markdown",
   "metadata": {},
   "source": [
    "Recommened way to declare, because the name is clearly seperated from type."
   ]
  },
  {
   "cell_type": "markdown",
   "metadata": {},
   "source": [
    "~~~java\n",
    "int[] x;\n",
    "/*\n",
    "Valid but not recommended\n",
    "int []x;\n",
    "int x[];\n",
    "*/\n",
    "~~~"
   ]
  },
  {
   "cell_type": "markdown",
   "metadata": {},
   "source": [
    "At the time of declartion we cannot specify the size other wise we get an error, below is wrong."
   ]
  },
  {
   "cell_type": "markdown",
   "metadata": {},
   "source": [
    "~~~java\n",
    "int[6] x;\n",
    "//Wrong\n",
    "~~~"
   ]
  },
  {
   "cell_type": "markdown",
   "metadata": {},
   "source": [
    "## Two Dimensional Declaration"
   ]
  },
  {
   "cell_type": "markdown",
   "metadata": {},
   "source": [
    "~~~java\n",
    "int[][] x;\n",
    "int [][]x;\n",
    "int x[][];\n",
    "int [] []x;\n",
    "int[] []x;\n",
    "int[] x[];\n",
    "int []x[];\n",
    "~~~"
   ]
  },
  {
   "cell_type": "markdown",
   "metadata": {},
   "source": [
    "Which of the following are valid:"
   ]
  },
  {
   "cell_type": "markdown",
   "metadata": {},
   "source": [
    "~~~java\n",
    "int[] a,b; //a-1, b-1\n",
    "int[] a[],b; //a-2, b-1\n",
    "int[] a[],b[]; //a-2, b-2\n",
    "int[] []a,b; //a-2, b-2\n",
    "int[] []a,b[]; //a-2, b-3\n",
    "int[] []a,[]b; //C.E - Invalid\n",
    "int[] []a, []b, []c; //- Invalid\n",
    "~~~"
   ]
  },
  {
   "cell_type": "markdown",
   "metadata": {},
   "source": [
    "If we want to specify dimension before the variable, that facility is applicable only for the first variable in the declaration, if we try to apply for the remaning variables, we get C.E."
   ]
  },
  {
   "cell_type": "markdown",
   "metadata": {},
   "source": [
    "## Three Dimensinal Array"
   ]
  },
  {
   "cell_type": "markdown",
   "metadata": {},
   "source": [
    "~~~java\n",
    "int [][][] a;\n",
    "int[][][] a;\n",
    "//All others are valid.\n",
    "int a[] [][];\n",
    "int []a[][];\n",
    "~~~"
   ]
  },
  {
   "cell_type": "markdown",
   "metadata": {},
   "source": [
    "## Array Creation"
   ]
  },
  {
   "cell_type": "markdown",
   "metadata": {},
   "source": [
    "Every array in JAva is an object, hence we can create arrays using new operator.\n",
    "~~~java\n",
    "int[][] a = new int[3][2];\n",
    "System.out.println(a.getClass().getName());\n",
    "Output: [[I\n",
    "~~~"
   ]
  },
  {
   "cell_type": "markdown",
   "metadata": {},
   "source": [
    "For every array type corresponding classes are available and these classes are part of Java language and not available to the programmer level."
   ]
  },
  {
   "cell_type": "markdown",
   "metadata": {},
   "source": [
    "|Array type | Corresponding class name|\n",
    "|-----------|-------------------------|\n",
    "| int []    | [I                     |\n",
    "| int [][]  | [[I                     |\n",
    "| double []    | [D                     |\n",
    "| short []    | [S                     |\n",
    "| byte []    | [B                     |\n",
    "| boolean []    | [Z                     |"
   ]
  },
  {
   "cell_type": "markdown",
   "metadata": {},
   "source": [
    "## Loopholes in Array:\n",
    "1. At the time of array creation we should specify the size, otherwise we will get compile time error.\n",
    "~~~java\n",
    "int[] a = new int[]; // Wrong\n",
    "int[] a = new int[6]; //Correct\n",
    "~~~\n",
    "2. It is legal to have an array with size 0 in java\n",
    "~~~java\n",
    "int[] a = new int[0];\n",
    "~~~\n",
    "3. If we are specify with some negative invalue then we get runtime exception saying NegativeArraySizeException.\n",
    "~~~java\n",
    "int[] a = new int[-3]; //Run Time exception, will compile properly.\n",
    "~~~\n",
    "4. To specify array size the allowed datatypes are: byte, short, char, if we specify any other datatype we get compile time error.\n",
    "~~~java\n",
    "int[] x = new int[10];\n",
    "int []x = new int['a'];\n",
    "byte b = 20;\n",
    "int []x = new int [b];\n",
    "int []x = new int[10l];//C.E = Possible loss of precision. Found long required int\n",
    "~~~\n",
    "5. Max allowed size in java is 2147483647, which is the max value of the int value.\n",
    "~~~java\n",
    "int []x = new int[2147483647];\n",
    "//Compiles fine, but can give run time exception because less heap memory.\n",
    "int []x = new int[2147483648];//C.E = Interger too large\n",
    "~~~"
   ]
  },
  {
   "cell_type": "markdown",
   "metadata": {},
   "source": [
    "## Two Dimensional Array Creation\n",
    "In Java 2D array not implemented matrix style, some people followed Array of Arrays approach for multi dimensional array creation. The main advantage of this approach is that memory utilization will be improved.\n",
    "Example 1:\n",
    "~~~java\n",
    "//2D\n",
    "int [][]x = new int[2];\n",
    "x[0] = new int[2];\n",
    "x[1] = new int[3];\n",
    "//3D\n",
    "int [][][]x = new int[2][][];\n",
    "x[0] = new int[3][];\n",
    "x[0][0] = new int[1];\n",
    "~~~"
   ]
  },
  {
   "cell_type": "markdown",
   "metadata": {},
   "source": [
    "Which of the following are valid:\n",
    "~~~java\n",
    "int [][]a = new int[];//W\n",
    "int []a = new int[3];\n",
    "int [][]a = new int[][];//W\n",
    "int [][]a = new int[3][];\n",
    "int [][]a = new int [][4];//W\n",
    "~~~"
   ]
  },
  {
   "cell_type": "markdown",
   "metadata": {},
   "source": [
    "## Array Initialization\n",
    "Once we create an array, every val is initialized with default value = 0."
   ]
  },
  {
   "cell_type": "markdown",
   "metadata": {},
   "source": [
    "~~~java\n",
    "int [][]x = new int[2][3];\n",
    "System.out.println(x); //[[I@610455d6\n",
    "System.out.println(x[0]); //Ref to the variable some [I@6a0asd\n",
    "System.out.println(x[0][0]); //0\n",
    "\n",
    "int [][]x = new int[2][];\n",
    "System.out.println(x);//[[I2312312\n",
    "System.out.println(x[0]);//null\n",
    "System.out.println(x[0][0]); //Null pointer Exception\n",
    "~~~\n",
    "Note: If we perform any operation on null, we get null pointer exception. \n",
    "Once we create an array, by default value is 0\n",
    "~~~java\n",
    "int x[6] = 70;//ArrayIndexOutOfBoundException\n",
    "int x[-6] = 80;\n",
    "int x[2.5] = 90;//CE-Possible L P\n",
    "~~~\n",
    "If we try to access values out of range, either positive or negative, we get Run Time Exception."
   ]
  },
  {
   "cell_type": "markdown",
   "metadata": {},
   "source": [
    "  ## Array D, C, I in single line\n",
    "  \n",
    "  We can declare and initialize and create in single line.\n",
    "  We can extend this shortcut for multidimensional arrays also.\n",
    "\n",
    "~~~java\n",
    "int []x = {10,20,30};\n",
    "char []ch = {'a','e'};\n",
    "String []A = {\"A\",\"AA\",\"AAA\"};\n",
    "int [][]x = {{10,20,30},{40,50,60}};\n",
    "//We can write\n",
    "int x;\n",
    "x = 10;\n",
    "//But we cannot write C.E: Illegal start of statement.\n",
    "int []x;\n",
    "x ={10,20,30};\n",
    "~~~\n"
   ]
  },
  {
   "cell_type": "markdown",
   "metadata": {},
   "source": [
    "## length vs length()\n",
    "~~~java\n",
    "int []x = new int[6];\n",
    "System.out.println(x.length());//C.E: Cannot find symbol\n",
    "System.out.println(x.length);//Valid O: 6\n",
    "\n",
    "~~~\n",
    "length is a final variable is applicable for arrays. length variable represents the size of the array.\n",
    "\n",
    "~~~java\n",
    "String s = \"durga\";\n",
    "System.out.println(s.length);//C.E: Cannot find symbol: variable length location: J.L.String\n",
    "System.out.println(s.length());\n",
    "~~~\n",
    "length() method is applicable for string objects, returns number of strings.\n",
    "length variable applicable for arrays but not for String objects, wheras length() applicable for Strigs not for arrays.\n",
    "~~~java\n",
    "String [] a = {\"A\",\"AA\",\"AAA\"};\n",
    "System.out.println(s.length);//Valid\n",
    "System.out.println(s.length());//Invalid CE cannot find symbol method length\n",
    "System.out.println(s[0].length);//Invalid\n",
    "System.out.println(s[0].length());//Valid\n",
    "~~~\n",
    "In multi dimensional array, variable represtsn base size but not total.\n",
    "\n",
    "~~~java\n",
    "int[][]x = new int[6][3];\n",
    "System.out.println(x.length);\n",
    "~~~\n",
    "There is no direct way to find total length of multidimentional array, but indirectly we can x[0].length+..\n",
    "\n",
    "\n"
   ]
  },
  {
   "cell_type": "markdown",
   "metadata": {},
   "source": [
    "## Anonymous Arrays\n",
    "Sometimes we can declare an array with name, such nameless arrays are called anonymous arrays, the main purpose is to just for instant use, one time use.\n",
    "~~~java\n",
    "\n",
    "sum(new int[]{1,2,3,4});\n",
    "//Cannot specify size. CE\n",
    "new int[][]{{10,20},{30,40,50}};\n",
    "~~~\n",
    "We should not specify size otherwise we get compile time error.\n",
    "We can create multidimensional arrays also. Based on the req we can give the name for the arr.\n",
    "\n",
    "After completing some method call we do not use it anymore, hence, for this one time req anonymous array is the best choice."
   ]
  },
  {
   "cell_type": "markdown",
   "metadata": {},
   "source": [
    "## Array Element assignments\n",
    "### Case 1:\n",
    "In the case of primitive type of arrays as arry elements we can provide any type, which can be implicitly promented to declared type.\n",
    "~~~java\n",
    "int []x = new int[5];\n",
    "x[0] = 'a';\n",
    "~~~\n",
    "In the case of float the allowed data types are, byte, short, char, int, long, float\n",
    "\n",
    "### Case 2:\n",
    "In the case of object type arrays, as array elements we can provide declared type of objects or its child class objects\n",
    "\n",
    "~~~java\n",
    "Object []A = new Object[5];\n",
    "A[0] = new Integer(10);\n",
    "A[1] = new String(\"rajath\");\n",
    "A[2] = new Object();\n",
    "//Number is Abstract class\n",
    "Number []N = new Number[5];\n",
    "N[0] = new Integer(3);\n",
    "N[1] = new String(\"rajath\");//C.E : Incompatable types, found java.lang.String, require java.lang.Number\n",
    "~~~\n",
    "\n",
    "### Case 3:\n",
    "For interface type arrays, as arrya elemets it;s implementation class objects are allowed\n",
    "\n",
    "~~~java\n",
    "Runnable[] r = new Runnable[10];//Valid\n",
    "r[0] = new Thread();\n",
    "r[1] = new String(\"Rajath\");//C.E: Incompatible types found java.lang.String required java.lang.Runnable\n",
    "~~~\n",
    "\n",
    "For interface type arrays as array elements it's implementation class objects are allowed"
   ]
  },
  {
   "cell_type": "markdown",
   "metadata": {},
   "source": [
    "|Array Type | Allowed elements types|\n",
    "|-----------|-----------------------|\n",
    "|Primitive Arrays | Array type which can be implicitly converted to declared types|\n",
    "|Object type arrays | Array types which are either declared type or it's child class object|\n",
    "|Abstract class types | Array types which are it's child class objects|\n",
    "|interface type arrays | it's implementation class objects are allowed|"
   ]
  },
  {
   "cell_type": "markdown",
   "metadata": {},
   "source": [
    "## Array Variable Assignments\n",
    "### Case 1:\n",
    "Element level promotions are not applicable at array level, for.eg, char element can be promoted to int type whereas char[] cannot be promoted to int array. This is becuse char array has the type [C and in int array has [I, these two classes are not related.\n",
    "~~~java\n",
    "int []x = {10,20,30};\n",
    "char []ch = {'a','b','c'};\n",
    "int []b = x;\n",
    "int []c = ch;\n",
    "~~~\n",
    "\n",
    "Which of the following promotions will happen automatically:\n",
    "1. char -> float\n",
    "2. char[] -> float //Invalid\n",
    "3. int -> double\n",
    "4. int[] -> double[] //Invalid\n",
    "5. float -> int//Invalid\n",
    "6. float[] -> int[]//Invalid\n",
    "7. String -> Object\n",
    "8. String[] -> Object[]\n",
    "\n",
    "But in the case of object type arrays, child type arrays can be converted to parent type array.\n",
    "~~~java\n",
    "String []s = {\"a\",\"b\"};\n",
    "Object []obj = s;\n",
    "~~~\n",
    "\n",
    "### Case 2:\n",
    "Whenever we assign one array to another array, internal elements wont be copied just reference vairable will be reassigned.\n",
    "~~~java\n",
    "int []a = {10,20,30};\n",
    "int []b = {40,50};\n",
    "\n",
    "a=b;//Valid\n",
    "b=a;//Valid\n",
    "~~~\n",
    "Both are valid, just references change.\n",
    "\n",
    "### Case 3:\n",
    "Whenever we are asssigning one array to antoher dimensions must be matched, for example in the place of 1D array we should provide 1D array only. If we are trying to plvide any other dimension then we get compile time error.\n",
    "~~~java\n",
    "int [][]x = new int[5][3];\n",
    "x[0] = new int[2][2];//Invalid C.E Incompatible types found int[][] req int[]\n",
    "x[0] = 10; //Invalid C.E Incompatible types found int req int[]\n",
    "x[0] = new int[2];\n",
    "~~~\n",
    "Note: Whenever we are assigning one array to another array both dimensions and types must but sizes are not required to match\n"
   ]
  },
  {
   "cell_type": "markdown",
   "metadata": {},
   "source": [
    "Example of array and GC:\n",
    "\n",
    "~~~java\n",
    "int [][]a = int [4][3]; //Number of Objs - 5\n",
    "a[0] = new int[4]; //N o Objs - 1\n",
    "a[1] = new int[2]; //NoObjs - 1\n",
    "a = new int[3][2]; //NoObjs - 4\n",
    "\n",
    "/*Total objs created = 11\n",
    "Objects for the GC = 7\n",
    "*/\n",
    "~~~\n"
   ]
  },
  {
   "cell_type": "code",
   "execution_count": null,
   "metadata": {},
   "outputs": [],
   "source": []
  }
 ],
 "metadata": {
  "kernelspec": {
   "display_name": "SciJava",
   "language": "groovy",
   "name": "scijava"
  },
  "language_info": {
   "codemirror_mode": "groovy",
   "file_extension": "",
   "mimetype": "",
   "name": "scijava",
   "nbconverter_exporter": "",
   "pygments_lexer": "groovy",
   "version": "1.0"
  }
 },
 "nbformat": 4,
 "nbformat_minor": 2
}
