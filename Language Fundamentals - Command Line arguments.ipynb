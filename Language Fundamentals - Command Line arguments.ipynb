{
 "cells": [
  {
   "cell_type": "markdown",
   "metadata": {},
   "source": [
    "The arguments which are passed from cmd are called cmd args, with there cmd args JVM will create and array and by passing that array as an arg JVM will call main method\n",
    "\n",
    "java Test A B C\n",
    "String[] args = {\"A\",\"B\",\"C\"};\n",
    "\n",
    "The objective of cmd args is we can cutomize behaviour of the main method.\n",
    "\n",
    "Within main method cmd are avilable in string form.\n",
    "\n",
    "Usually space is the seperator between cmd, if cmd itself contains space , then we have to enclose those withing \"\"\n",
    "\n",
    "java Test A B\n",
    "java Test \"A B\""
   ]
  },
  {
   "cell_type": "code",
   "execution_count": null,
   "metadata": {},
   "outputs": [],
   "source": []
  }
 ],
 "metadata": {
  "kernelspec": {
   "display_name": "SciJava",
   "language": "groovy",
   "name": "scijava"
  },
  "language_info": {
   "codemirror_mode": "groovy",
   "file_extension": "",
   "mimetype": "",
   "name": "scijava",
   "nbconverter_exporter": "",
   "pygments_lexer": "groovy",
   "version": "1.0"
  }
 },
 "nbformat": 4,
 "nbformat_minor": 2
}
