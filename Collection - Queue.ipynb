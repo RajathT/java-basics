{
 "cells": [
  {
   "cell_type": "markdown",
   "metadata": {},
   "source": [
    "### Queue(I)\n",
    "1. Child interface of Collection\n",
    "2. If we want to represent a group of individual objects prior to processing, then we should go for queue. For, e.g., before sending SMS message, all mobile number need to be stored in a D.S and in the same order it should be deliveered. FIFO req, Queue is the best choice.\n",
    "\n",
    "3. Usually Queue follows FIFO, but based on our req we can implement our own priority order(Priority queue).\n",
    "\n",
    "4. LinkedList class also implements Queue, LL based implementation of Queue follows FIFO.\n",
    "\n",
    "### Methods\n",
    "~~~java\n",
    "boolean offer(Object o)//to add an object into the queue\n",
    "Object peek()//to return head element of the queue. if queue is empty then this method return null\n",
    "Object element()//to return head element of the queue. If queue is empty then this method raises RE: NoSuchElementException\n",
    "Object poll()//to remove and return head element of the queue. If queue is empty then this method returns null.\n",
    "Object remove()//to remove and return head element. If queue is empty then this method raises RE: NoSuchElementException\n",
    "~~~\n",
    "\n",
    "### PriorityQueue\n",
    "\n",
    "1. If we want to represent a group of individual objects prior to processing according to some priority, then we should go for PriorityQueue.\n",
    "2. Then Priority can be default sorting order or customized sorting order defined by Comparator.\n",
    "3. Insertion order is not preserved and it is based on some priority.\n",
    "4. Duplicated not allowed\n",
    "5. If we are depending on natural sorting order then, they should be homogenous and comparable, else CCE.\n",
    "6. If we are defining our own sorting by comparator, then objects need not be objects and comparable.\n",
    "7. null not allowed even as a first element.\n",
    "\n",
    "\n",
    "~~~java\n",
    "PriorityQueue q = new PriorityQueue();\n",
    "//Creates an empty PQ with initial capacity 11 and all objects will be inserted according to default natural sorting order\n",
    "PriorityQueue q = new PriorityQueue(int initialcapacity);\n",
    "PriorityQueue q = new PriorityQueue(int initialcapacity, Comparator c);\n",
    "PriorityQueue q = new PriorityQueue(SortedSet s);\n",
    "PriorityQueue q = new PriorityQueue(Collection c);\n",
    "~~~"
   ]
  },
  {
   "cell_type": "code",
   "execution_count": null,
   "metadata": {},
   "outputs": [
    {
     "name": "stdout",
     "output_type": "stream",
     "text": [
      "[9, 8, 5, 6, 7, 1, 4, 0, 3, 2]\n",
      "9\n",
      "[8, 7, 5, 6, 2, 1, 4, 0, 3]\n"
     ]
    }
   ],
   "source": [
    "class PriorityQueueDemo{\n",
    "    \n",
    "    public static void main(String[] args){\n",
    "        PriorityQueue pq = new PriorityQueue(new MyComp());\n",
    "        for (int i=0; i<10; i++)\n",
    "            pq.offer(i+\"\");\n",
    "        System.out.println(pq);\n",
    "        System.out.println(pq.poll());\n",
    "        System.out.println(pq);\n",
    "    }\n",
    "    \n",
    "}\n",
    "class MyComp implements Comparator{\n",
    "    public int compare(Object obj1, Object obj2){\n",
    "        String s1 = (String)obj1;\n",
    "        String s2 = (String)obj2;\n",
    "        return s2.compareTo(s1);\n",
    "    }\n",
    "}"
   ]
  },
  {
   "cell_type": "markdown",
   "metadata": {},
   "source": [
    "### Note:\n",
    "Some platform wont provide support for Threads and PriorityQueue.\n",
    "\n"
   ]
  },
  {
   "cell_type": "code",
   "execution_count": null,
   "metadata": {},
   "outputs": [],
   "source": []
  }
 ],
 "metadata": {
  "kernelspec": {
   "display_name": "SciJava",
   "language": "groovy",
   "name": "scijava"
  },
  "language_info": {
   "codemirror_mode": "groovy",
   "file_extension": "",
   "mimetype": "",
   "name": "scijava",
   "nbconverter_exporter": "",
   "pygments_lexer": "groovy",
   "version": "1.0"
  }
 },
 "nbformat": 4,
 "nbformat_minor": 2
}
