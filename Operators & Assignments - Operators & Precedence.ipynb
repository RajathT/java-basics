{
 "cells": [
  {
   "cell_type": "markdown",
   "metadata": {},
   "source": [
    "### Java Operators\n",
    "\n",
    "1. Unary Operators:\n",
    "    * [], x++, x--\n",
    "    * ++x, --x, ~,!\n",
    "2. Arithemetic Operators\n",
    "    * *,/,%\n",
    "    * +,-\n",
    "3. Shift operators\n",
    "    * \\>>,\\>>>,<<\n",
    "4. Comparision operators\n",
    "    * <,<=,>,>=, instanceof\n",
    "5. equality operators:\n",
    "    * ==, !=\n",
    "6. Bitwise operators:\n",
    "    * &\n",
    "    * ^\n",
    "    * |\n",
    "7. Short circuits operators:\n",
    "    * &&\n",
    "    * ||\n",
    "8. Conditional operators:\n",
    "    * ?:\n",
    "9. Assignment operators:\n",
    "    * =, +=, -=, *= ....\n",
    "\n",
    "\n",
    "### Evaluation order of java operands\n",
    "\n",
    "In java we have only operator precedence but not operands precedence, before operators being evaluted, operands are evaluted from left to right."
   ]
  },
  {
   "cell_type": "code",
   "execution_count": null,
   "metadata": {},
   "outputs": [],
   "source": []
  }
 ],
 "metadata": {
  "kernelspec": {
   "display_name": "SciJava",
   "language": "groovy",
   "name": "scijava"
  },
  "language_info": {
   "codemirror_mode": "groovy",
   "file_extension": "",
   "mimetype": "",
   "name": "scijava",
   "nbconverter_exporter": "",
   "pygments_lexer": "groovy",
   "version": "1.0"
  }
 },
 "nbformat": 4,
 "nbformat_minor": 2
}
